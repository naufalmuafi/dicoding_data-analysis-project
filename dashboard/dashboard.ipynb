{
 "cells": [
  {
   "cell_type": "markdown",
   "metadata": {},
   "source": [
    "# Dashboard Development"
   ]
  },
  {
   "cell_type": "code",
   "execution_count": 3,
   "metadata": {},
   "outputs": [
    {
     "ename": "ModuleNotFoundError",
     "evalue": "No module named 'blinker'",
     "output_type": "error",
     "traceback": [
      "\u001b[1;31m---------------------------------------------------------------------------\u001b[0m",
      "\u001b[1;31mModuleNotFoundError\u001b[0m                       Traceback (most recent call last)",
      "\u001b[1;32md:\\Users\\Muafi\\Documents\\NAUFAL MU'AFI\\E-Course\\Dicoding\\Data Science\\4_Analisis Data dengan Python\\data_analysis_project\\dashboard\\dashboard.ipynb Cell 2\u001b[0m line \u001b[0;36m4\n\u001b[0;32m      <a href='vscode-notebook-cell:/d%3A/Users/Muafi/Documents/NAUFAL%20MU%27AFI/E-Course/Dicoding/Data%20Science/4_Analisis%20Data%20dengan%20Python/data_analysis_project/dashboard/dashboard.ipynb#W0sZmlsZQ%3D%3D?line=1'>2</a>\u001b[0m \u001b[39mimport\u001b[39;00m \u001b[39mmatplotlib\u001b[39;00m\u001b[39m.\u001b[39;00m\u001b[39mpyplot\u001b[39;00m \u001b[39mas\u001b[39;00m \u001b[39mplt\u001b[39;00m\n\u001b[0;32m      <a href='vscode-notebook-cell:/d%3A/Users/Muafi/Documents/NAUFAL%20MU%27AFI/E-Course/Dicoding/Data%20Science/4_Analisis%20Data%20dengan%20Python/data_analysis_project/dashboard/dashboard.ipynb#W0sZmlsZQ%3D%3D?line=2'>3</a>\u001b[0m \u001b[39mimport\u001b[39;00m \u001b[39mseaborn\u001b[39;00m \u001b[39mas\u001b[39;00m \u001b[39msns\u001b[39;00m\n\u001b[1;32m----> <a href='vscode-notebook-cell:/d%3A/Users/Muafi/Documents/NAUFAL%20MU%27AFI/E-Course/Dicoding/Data%20Science/4_Analisis%20Data%20dengan%20Python/data_analysis_project/dashboard/dashboard.ipynb#W0sZmlsZQ%3D%3D?line=3'>4</a>\u001b[0m \u001b[39mimport\u001b[39;00m \u001b[39mstreamlit\u001b[39;00m \u001b[39mas\u001b[39;00m \u001b[39mst\u001b[39;00m\n\u001b[0;32m      <a href='vscode-notebook-cell:/d%3A/Users/Muafi/Documents/NAUFAL%20MU%27AFI/E-Course/Dicoding/Data%20Science/4_Analisis%20Data%20dengan%20Python/data_analysis_project/dashboard/dashboard.ipynb#W0sZmlsZQ%3D%3D?line=4'>5</a>\u001b[0m \u001b[39mfrom\u001b[39;00m \u001b[39mbabel\u001b[39;00m\u001b[39m.\u001b[39;00m\u001b[39mnumbers\u001b[39;00m \u001b[39mimport\u001b[39;00m format_currency\n\u001b[0;32m      <a href='vscode-notebook-cell:/d%3A/Users/Muafi/Documents/NAUFAL%20MU%27AFI/E-Course/Dicoding/Data%20Science/4_Analisis%20Data%20dengan%20Python/data_analysis_project/dashboard/dashboard.ipynb#W0sZmlsZQ%3D%3D?line=6'>7</a>\u001b[0m sns\u001b[39m.\u001b[39mset(style\u001b[39m=\u001b[39m\u001b[39m\"\u001b[39m\u001b[39mdark\u001b[39m\u001b[39m\"\u001b[39m)\n",
      "File \u001b[1;32mc:\\Users\\HP\\.virtualenvs\\data_analysis_project-EMbtwEJk\\lib\\site-packages\\streamlit\\__init__.py:49\u001b[0m\n\u001b[0;32m     45\u001b[0m \u001b[39m# IMPORTANT: Prefix with an underscore anything that the user shouldn't see.\u001b[39;00m\n\u001b[0;32m     46\u001b[0m \n\u001b[0;32m     47\u001b[0m \u001b[39m# Must be at the top, to avoid circular dependency.\u001b[39;00m\n\u001b[0;32m     48\u001b[0m \u001b[39mfrom\u001b[39;00m \u001b[39mstreamlit\u001b[39;00m \u001b[39mimport\u001b[39;00m logger \u001b[39mas\u001b[39;00m _logger\n\u001b[1;32m---> 49\u001b[0m \u001b[39mfrom\u001b[39;00m \u001b[39mstreamlit\u001b[39;00m \u001b[39mimport\u001b[39;00m config \u001b[39mas\u001b[39;00m _config\n\u001b[0;32m     50\u001b[0m \u001b[39mfrom\u001b[39;00m \u001b[39mstreamlit\u001b[39;00m\u001b[39m.\u001b[39;00m\u001b[39mversion\u001b[39;00m \u001b[39mimport\u001b[39;00m STREAMLIT_VERSION_STRING \u001b[39mas\u001b[39;00m _STREAMLIT_VERSION_STRING\n\u001b[0;32m     52\u001b[0m \u001b[39m# Give the package a version.\u001b[39;00m\n",
      "File \u001b[1;32mc:\\Users\\HP\\.virtualenvs\\data_analysis_project-EMbtwEJk\\lib\\site-packages\\streamlit\\config.py:25\u001b[0m\n\u001b[0;32m     22\u001b[0m \u001b[39mfrom\u001b[39;00m \u001b[39mtyping\u001b[39;00m \u001b[39mimport\u001b[39;00m Any, Callable, Dict, Optional, cast\n\u001b[0;32m     24\u001b[0m \u001b[39mimport\u001b[39;00m \u001b[39mtoml\u001b[39;00m\n\u001b[1;32m---> 25\u001b[0m \u001b[39mfrom\u001b[39;00m \u001b[39mblinker\u001b[39;00m \u001b[39mimport\u001b[39;00m Signal\n\u001b[0;32m     27\u001b[0m \u001b[39mfrom\u001b[39;00m \u001b[39mstreamlit\u001b[39;00m \u001b[39mimport\u001b[39;00m config_util, development, env_util, file_util, util\n\u001b[0;32m     28\u001b[0m \u001b[39mfrom\u001b[39;00m \u001b[39mstreamlit\u001b[39;00m\u001b[39m.\u001b[39;00m\u001b[39mconfig_option\u001b[39;00m \u001b[39mimport\u001b[39;00m ConfigOption\n",
      "\u001b[1;31mModuleNotFoundError\u001b[0m: No module named 'blinker'"
     ]
    }
   ],
   "source": [
    "import pandas as pd\n",
    "import matplotlib.pyplot as plt\n",
    "import seaborn as sns\n",
    "import streamlit as st\n",
    "from babel.numbers import format_currency\n",
    "\n",
    "sns.set(style=\"dark\")"
   ]
  },
  {
   "cell_type": "markdown",
   "metadata": {},
   "source": [
    "# Dataframe Preparation\n",
    "---"
   ]
  },
  {
   "cell_type": "markdown",
   "metadata": {},
   "source": [
    "## Daily Orders Dataframe"
   ]
  },
  {
   "cell_type": "code",
   "execution_count": 4,
   "metadata": {},
   "outputs": [],
   "source": [
    "def create_daily_orders_df(df):\n",
    "  daily_orders_df = df.resample(rule='D', on='order_date').agg({\n",
    "    \"order_id\": \"nunique\",\n",
    "    \"total_price\": \"sum\"\n",
    "  })\n",
    "  daily_orders_df = daily_orders_df.reset_index()\n",
    "  daily_orders_df.rename(columns={\n",
    "    \"order_id\": \"order_count\",\n",
    "    \"total_price\": \"revenue\"\n",
    "  }, inplace=True)\n",
    "  \n",
    "  return daily_orders_df"
   ]
  },
  {
   "cell_type": "markdown",
   "metadata": {},
   "source": [
    "## Sum Order Items Dataframe"
   ]
  },
  {
   "cell_type": "code",
   "execution_count": 5,
   "metadata": {},
   "outputs": [],
   "source": [
    "def create_sum_order_items_df(df):\n",
    "  sum_order_items_df = df.groupby(\"product_name\").quantity_x.sum().sort_values(ascending=False).reset_index()\n",
    "  return sum_order_items_df"
   ]
  },
  {
   "cell_type": "markdown",
   "metadata": {},
   "source": [
    "## Bygender Dataframe"
   ]
  },
  {
   "cell_type": "code",
   "execution_count": null,
   "metadata": {},
   "outputs": [],
   "source": []
  }
 ],
 "metadata": {
  "kernelspec": {
   "display_name": "data_analysis_project-EMbtwEJk",
   "language": "python",
   "name": "python3"
  },
  "language_info": {
   "codemirror_mode": {
    "name": "ipython",
    "version": 3
   },
   "file_extension": ".py",
   "mimetype": "text/x-python",
   "name": "python",
   "nbconvert_exporter": "python",
   "pygments_lexer": "ipython3",
   "version": "3.10.7"
  }
 },
 "nbformat": 4,
 "nbformat_minor": 2
}
