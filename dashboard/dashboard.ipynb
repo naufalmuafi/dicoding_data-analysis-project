{
 "cells": [
  {
   "cell_type": "markdown",
   "metadata": {},
   "source": [
    "# Dashboard Development"
   ]
  },
  {
   "cell_type": "code",
   "execution_count": 8,
   "metadata": {},
   "outputs": [],
   "source": [
    "import pandas as pd\n",
    "import matplotlib.pyplot as plt\n",
    "import seaborn as sns\n",
    "import streamlit as st\n",
    "from babel.numbers import format_currency\n",
    "\n",
    "sns.set(style=\"dark\")"
   ]
  },
  {
   "cell_type": "markdown",
   "metadata": {},
   "source": [
    "# Dataframe Preparation\n",
    "---"
   ]
  },
  {
   "cell_type": "markdown",
   "metadata": {},
   "source": [
    "## Daily Orders Dataframe"
   ]
  },
  {
   "cell_type": "code",
   "execution_count": 4,
   "metadata": {},
   "outputs": [],
   "source": [
    "def create_daily_orders_df(df):\n",
    "  daily_orders_df = df.resample(rule='D', on='order_date').agg({\n",
    "    \"order_id\": \"nunique\",\n",
    "    \"total_price\": \"sum\"\n",
    "  })\n",
    "  daily_orders_df = daily_orders_df.reset_index()\n",
    "  daily_orders_df.rename(columns={\n",
    "    \"order_id\": \"order_count\",\n",
    "    \"total_price\": \"revenue\"\n",
    "  }, inplace=True)\n",
    "  \n",
    "  return daily_orders_df"
   ]
  },
  {
   "cell_type": "markdown",
   "metadata": {},
   "source": [
    "## Sum Order Items Dataframe"
   ]
  },
  {
   "cell_type": "code",
   "execution_count": 5,
   "metadata": {},
   "outputs": [],
   "source": [
    "def create_sum_order_items_df(df):\n",
    "  sum_order_items_df = df.groupby(\"product_name\").quantity_x.sum().sort_values(ascending=False).reset_index()\n",
    "  return sum_order_items_df"
   ]
  },
  {
   "cell_type": "markdown",
   "metadata": {},
   "source": [
    "## Bygender Dataframe"
   ]
  },
  {
   "cell_type": "code",
   "execution_count": 6,
   "metadata": {},
   "outputs": [],
   "source": [
    "def create_bygender_df(df):\n",
    "  bygender_df = df.groupby(by=\"gender\").customer_id.nunique().reser_index()\n",
    "  bygender_df.rename(columns={\n",
    "    \"customer_id\": \"customer_count\"\n",
    "  }, inplace=True)\n",
    "  \n",
    "  return bygender_df"
   ]
  },
  {
   "cell_type": "markdown",
   "metadata": {},
   "source": [
    "## Byage Dataframe"
   ]
  },
  {
   "cell_type": "code",
   "execution_count": 7,
   "metadata": {},
   "outputs": [],
   "source": [
    "def create_byage_df(df):\n",
    "  byage_df = df.groupby(by=\"age_group\").customer_id.nunique().reset_index()\n",
    "  byage_df.rename(columns={\n",
    "    \"customer_id\": \"customer_count\"\n",
    "  }, inplace=True)\n",
    "  byage_df['age_group'] = pd.Categorical(byage_df['age_group'], ['Youth', 'Adults', 'Seniors'])\n",
    "  \n",
    "  return byage_df"
   ]
  },
  {
   "cell_type": "markdown",
   "metadata": {},
   "source": [
    "## Bystate Dataframe"
   ]
  },
  {
   "cell_type": "code",
   "execution_count": 9,
   "metadata": {},
   "outputs": [],
   "source": [
    "def create_bystate_df(df):\n",
    "  bystate_df = df.groupby(by=\"state\").customer_id.nunique().reset_index()\n",
    "  bystate_df.rename(columns={\n",
    "    \"customer_id\": \"customer_count\"\n",
    "  }, inplace=True)\n",
    "  \n",
    "  return bystate_df"
   ]
  },
  {
   "cell_type": "markdown",
   "metadata": {},
   "source": [
    "## RFM Dataframe"
   ]
  },
  {
   "cell_type": "code",
   "execution_count": 10,
   "metadata": {},
   "outputs": [],
   "source": [
    "def create_rfm_df(df):\n",
    "  rfm_df = df.groupby(by=\"customer_id\", as_index=False).agg({\n",
    "    \"order_date\": \"max\",\n",
    "    \"order_id\": \"nunique\",\n",
    "    \"total_price\": \"sum\"\n",
    "  })\n",
    "  rfm_df.columns = [\"customer_id\", \"max_order_timestamps\", \"frequency\", \"monetary\"]\n",
    "  \n",
    "  rfm_df[\"max_order_timestamps\"] = rfm_df[\"max_order_timestamps\"].dt.date\n",
    "  recent_date = df[\"order_date\"].dt.date.max()\n",
    "  rfm_df[\"recency\"] = rfm_df[\"max_order_timestamps\"].apply(lambda x: (recent_date - x).days)\n",
    "  rfm_df.drop(\"max_order_timestamps\", axis=1, inplace=True)\n",
    "  \n",
    "  return rfm_df"
   ]
  },
  {
   "cell_type": "markdown",
   "metadata": {},
   "source": [
    "## Load the Dataframe"
   ]
  },
  {
   "cell_type": "code",
   "execution_count": 11,
   "metadata": {},
   "outputs": [],
   "source": [
    "all_df = pd.read_csv(\"all_data.csv\")"
   ]
  },
  {
   "cell_type": "markdown",
   "metadata": {},
   "source": [
    "Memastikan kolom bertipe datetime yang berada dalam all_df bekerja dengan baik"
   ]
  },
  {
   "cell_type": "code",
   "execution_count": 12,
   "metadata": {},
   "outputs": [],
   "source": [
    "datetime_columns = [\"order_date\", \"delivery_date\"]\n",
    "all_df.sort_values(by=\"order_date\", inplace=True)\n",
    "all_df.reset_index(inplace=True)\n",
    "\n",
    "for column in datetime_columns:\n",
    "  all_df[column] = pd.to_datetime(all_df[column])"
   ]
  },
  {
   "cell_type": "markdown",
   "metadata": {},
   "source": [
    "# Create Filter Component\n",
    "---"
   ]
  },
  {
   "cell_type": "code",
   "execution_count": 13,
   "metadata": {},
   "outputs": [
    {
     "name": "stderr",
     "output_type": "stream",
     "text": [
      "2023-10-07 14:35:45.185 \n",
      "  \u001b[33m\u001b[1mWarning:\u001b[0m to view this Streamlit app on a browser, run it with the following\n",
      "  command:\n",
      "\n",
      "    streamlit run c:\\Users\\HP\\.virtualenvs\\data_analysis_project-EMbtwEJk\\lib\\site-packages\\ipykernel_launcher.py [ARGUMENTS]\n"
     ]
    }
   ],
   "source": [
    "min_date = all_df[\"order_date\"].min()\n",
    "max_date = all_df[\"order_date\"].max()\n",
    "\n",
    "with st.sidebar:\n",
    "  # menambahkan logo perusahaan\n",
    "  st.image(\"https://github.com/dicodingacademy/assets/raw/main/logo.png\")\n",
    "  \n",
    "  # mengambil start_date & end_date dari date_input\n",
    "  start_date, end_date = st.date_input(\n",
    "    label='Rentang Waktu', min_value=min_date,\n",
    "    max_value=max_date,\n",
    "    value=[min_date, max_date]\n",
    "  )"
   ]
  }
 ],
 "metadata": {
  "kernelspec": {
   "display_name": "data_analysis_project-EMbtwEJk",
   "language": "python",
   "name": "python3"
  },
  "language_info": {
   "codemirror_mode": {
    "name": "ipython",
    "version": 3
   },
   "file_extension": ".py",
   "mimetype": "text/x-python",
   "name": "python",
   "nbconvert_exporter": "python",
   "pygments_lexer": "ipython3",
   "version": "3.10.7"
  }
 },
 "nbformat": 4,
 "nbformat_minor": 2
}
